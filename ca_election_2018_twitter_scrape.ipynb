{
 "cells": [
  {
   "cell_type": "markdown",
   "metadata": {},
   "source": [
    "# CA Gubernatorial and State Elections\n",
    "\n",
    "This is a new twitter scrape notebook for the California Gubernatorial and other state elections."
   ]
  },
  {
   "cell_type": "markdown",
   "metadata": {},
   "source": [
    "### Gubernatorial\n",
    "The current list of announced and possible candidates that the project will be tracking are the ones listed on _La Times_ article [_California's next governor: Who's running, who's on the fence?_](http://www.latimes.com/politics/la-pol-ca-california-governor-list-2018-htmlstory.html) \n",
    "\n",
    "This is a list of the candidates listed in the article as of September 6th, 2017:\n",
    "\n",
    "**Declared**\n",
    "* [Gavin Newsom - D](https://twitter.com/GavinNewsom) [02/10/2015](http://www.latimes.com/local/politics/la-me-pol-gavin-newsom-20150212-story.html)\n",
    "* [John Chiang - D](https://twitter.com/JohnChiangCA) [05/17/2016](http://www.latimes.com/politics/la-pol-sac-essential-poli-john-chiang-jumps-into-californias-2018-governor-1463506797-htmlstory.html)\n",
    "* [Antonio Villaraigosa - D](https://twitter.com/antonio4ca) [11/10/2016](http://www.dailynews.com/2016/11/10/former-la-mayor-antonio-villaraigosa-launches-bid-for-california-governor/)\n",
    "* [Delaine Eastin - D](https://twitter.com/DelaineEastin) [11/01/2016](https://ballotpedia.org/Delaine_Eastin)\n",
    "* [John Cox - R](https://twitter.com/TheRealJohnHCox) [03/07/2017](https://en.wikipedia.org/wiki/John_H._Cox#2018_California_gubernatorial_election)\n",
    "* [Travis Allen- R](https://twitter.com/JoinTravisAllen) [06/22/2017](https://ballotpedia.org/Travis_Allen)\n",
    "* [Zoltan Istvan - L](https://twitter.com/zoltan_istvan) [02/12/2017](http://www.newsweek.com/zoltan-istvan-california-governor-libertarian-555088)\n",
    "\n",
    "**Potential**\n",
    "* [Kevin Faulconer - R](https://twitter.com/Kevin_Faulconer)\n",
    "* [Eric Garcetti - D](https://twitter.com/ericgarcetti)\n",
    "* [Tom Steyer - D](https://twitter.com/TomSteyer)\n",
    "* [Ashley Sweargin - R](https://twitter.com/ashleycvcf)\n",
    "* [Steve Westly - D](https://twitter.com/SteveWestly)"
   ]
  },
  {
   "cell_type": "markdown",
   "metadata": {},
   "source": [
    "### Senate\n",
    "This is a compiled list from our staff meetings and [Wikipedia](https://en.wikipedia.org/wiki/United_States_Senate_election_in_California,_2018) of likely candidates for the 2018 senate race along with people of interest in CA politics such as Kamala Harris and Jerry Brown.\n",
    "\n",
    "**Declared**\n",
    "* [Topher Brennan - D](https://twitter.com/tophertbrennan)\n",
    "* [Dianne Feinstein - D](https://twitter.com/SenFeinstein)\n",
    "* [Pat Harris - D](https://twitter.com/PatHarrisCA)\n",
    "* [David Hildebrand - D](https://twitter.com/David4SenateCA)\n",
    "* Douglas Howard Pierce - D (no twitter account)\n",
    "* [John Melendez - D](https://twitter.com/stutteringjohnm)\n",
    "* [Joe Sanberg - D](https://twitter.com/JosephNSanberg)\n",
    "* [Steve Stokes - D](https://twitter.com/Stokes4Senate)\n",
    "* [Kevin de León - D](https://twitter.com/kdeleon)\n",
    "* Timothy Charles Kalemkarian - R (no twitter account)\n",
    "* [Caren Lancona - R](https://twitter.com/Carenlancona4Se)\n",
    "* Stephen James Schrader - R (no twitter account)\n",
    "\n",
    "**Potential**\n",
    "* [Eric Garcetti - D](https://twitter.com/ericgarcetti)\n",
    "* [Loretta Sanchez - D](https://twitter.com/LorettaSanchez)\n",
    "* [Brad Sherman - D](https://twitter.com/BradSherman)\n",
    "* [Tom Steyer - D](https://twitter.com/TomSteyer)\n",
    "* [Eric Swalwell - D](https://twitter.com/RepSwalwell)\n",
    "* [Kevin Faulconer - R](https://twitter.com/Kevin_Faulconer)\n",
    "* [Caitlyn Jenner - R](https://twitter.com/Caitlyn_Jenner)\n",
    "* [Ashley Sweargin - R](https://twitter.com/ashleycvcf)"
   ]
  },
  {
   "cell_type": "markdown",
   "metadata": {},
   "source": [
    "### People of Interest\n",
    "This is a list of top California officials and politicians that may be useful for this research. \n",
    "\n",
    "**CA Exec**\n",
    "* [Jerry Brown - D](https://twitter.com/jerrybrowngov)\n",
    "* [Xavier Becerra - D](https://twitter.com/AGBecerra)\n",
    "* [Betty Yee - D](https://twitter.com/BettyYeeforCA)\n",
    "* [Dave Jones - D](https://twitter.com/CA_DaveJones)\n",
    "* [Tom Torlakson - D](https://twitter.com/TomTorlakson)\n",
    "\n",
    "**CA Legislature**\n",
    "* [Toni G. Atkins - D](https://twitter.com/toniatkins)\n",
    "* [Bill Monning - D](https://twitter.com/billmonning)\n",
    "* [Jean Fuller - R](https://twitter.com/JeanFuller)\n",
    "* [Anthony Rendon - D](https://twitter.com/Rendon63rd)\n",
    "* [Chris Holden - D](https://twitter.com/ChrisHoldenNews)\n",
    "* [Chad Mayes - R](https://twitter.com/ChadMayesCA)\n",
    "\n",
    "**CA Senate**\n",
    "* [Kamala Harris](https://twitter.com/KamalaHarris)\n",
    "\n",
    "**Party Leadership**\n",
    "* [Eric Bauman](https://twitter.com/EricBauman)\n",
    "* Jim Brulte - Inactive"
   ]
  },
  {
   "cell_type": "markdown",
   "metadata": {},
   "source": [
    "### CA49 Congressional Race\n",
    "This is a contentious congressional race.\n",
    "\n",
    "**Democrat**\n",
    "* [Douglas Applegate](https://twitter.com/ApplegateCA49)\n",
    "* [Sara Jacobs](https://twitter.com/SaraJacobsCA)\n",
    "* [Paul Kerr](https://twitter.com/KerrForCongress)\n",
    "* [Mike Levin](https://twitter.com/MikeLevinCA)\n",
    "* [Christina Prejean](https://twitter.com/CPforCongress)\n",
    "\n",
    "**Republican**\n",
    "* [Rocky Chavez](https://twitter.com/AsmRocky)\n",
    "* [Kristin Gaspar](https://twitter.com/KristinDGaspar)\n",
    "* [Diane Harkey](https://twitter.com/DianeHarkey)\n",
    "* [Brian Maryott](https://twitter.com/brianlmaryott)\n",
    "* [Joshua Schoonover](https://twitter.com/JSSchoonover)\n",
    "\n",
    "**Libertarian**\n",
    "* Joshua Hancock\n",
    "\n",
    "**Peace and Freedom**\n",
    "* Jordan Mills"
   ]
  },
  {
   "cell_type": "code",
   "execution_count": 2,
   "metadata": {
    "collapsed": true
   },
   "outputs": [],
   "source": [
    "# coding: utf-8"
   ]
  },
  {
   "cell_type": "code",
   "execution_count": 3,
   "metadata": {
    "collapsed": true
   },
   "outputs": [],
   "source": [
    "# import necessary python packages\n",
    "import sys\n",
    "#sys.path.append(\"/usr/local/lib/python2.7/site-packages\")\n",
    "import tweepy #https://github.com/tweepy/tweepy\n",
    "import dropbox #https://www.dropbox.com/developers-v1/core/docs/python\n",
    "import csv\n",
    "import time\n",
    "import os\n",
    "from datetime import datetime\n",
    "from collections import defaultdict\n",
    "import logging\n",
    "import gspread\n",
    "import pandas as pd\n",
    "import numpy as np\n",
    "from openpyxl import load_workbook\n",
    "from unidecode import unidecode\n",
    "\n",
    "#Twitter and Dropbox API credentials\n",
    "import api_cred as ac"
   ]
  },
  {
   "cell_type": "code",
   "execution_count": 4,
   "metadata": {
    "collapsed": true
   },
   "outputs": [],
   "source": [
    "# setup debug logging\n",
    "logging.basicConfig(level=logging.WARN)\n",
    "logger = logging.getLogger(__name__)\n",
    "logger.setLevel(logging.INFO)"
   ]
  },
  {
   "cell_type": "code",
   "execution_count": 5,
   "metadata": {
    "collapsed": true
   },
   "outputs": [],
   "source": [
    "# modify print precison for easier debugging\n",
    "np.set_printoptions(precision=20)"
   ]
  },
  {
   "cell_type": "markdown",
   "metadata": {},
   "source": [
    "# Helper Functions"
   ]
  },
  {
   "cell_type": "code",
   "execution_count": 6,
   "metadata": {
    "collapsed": true
   },
   "outputs": [],
   "source": [
    "def authenticate_twitter():\n",
    "  auth = tweepy.OAuthHandler(ac.consumer_key, ac.consumer_secret)\n",
    "  auth.set_access_token(ac.access_key, ac.access_secret)\n",
    "  api = tweepy.API(auth)\n",
    "  return api"
   ]
  },
  {
   "cell_type": "code",
   "execution_count": 7,
   "metadata": {
    "collapsed": true
   },
   "outputs": [],
   "source": [
    "def get_new_tweets(tweet_name, since_id):\n",
    "  api = authenticate_twitter()\n",
    "  tweets = []\n",
    "  new_tweets = api.user_timeline(screen_name = tweet_name, since_id = since_id, count = 200)\n",
    "  tweets.extend(new_tweets)\n",
    "  if len(tweets) > 0:\n",
    "    max_id = tweets[-1].id - 1\n",
    "  while (len(new_tweets) > 0):\n",
    "    new_tweets = api.user_timeline(screen_name = tweet_name, since_id = since_id, count = 200, max_id = max_id)\n",
    "    tweets.extend(new_tweets)\n",
    "    max_id = tweets[-1].id - 1\n",
    "  \n",
    "  tweets = [[tweet.id_str, tweet.created_at, tweet.text, \"\", \"\", \"\",tweet.retweet_count, tweet.favorite_count] for tweet in tweets]\n",
    "  logger.info(\"Downloading %d tweets from %s\" % (len(tweets), tweet_name))\n",
    "  return tweets[::-1]"
   ]
  },
  {
   "cell_type": "code",
   "execution_count": 8,
   "metadata": {
    "collapsed": true
   },
   "outputs": [],
   "source": [
    "def get_lists(df):\n",
    "  # put twitter handles, last acquired tweet ID, tweet count and store them in respective lists\n",
    "  names = filter(lambda x: x > 0, df.iloc[:, 1])\n",
    "  max_ids = df.iloc[:, 2]\n",
    "  counts = df.iloc[:, 3]\n",
    "  \n",
    "  # save the number of entries\n",
    "  indices = range(1,len(names)+1)\n",
    "  \n",
    "  lists = zip(names, max_ids, counts, indices)\n",
    "  del lists[0] # the first one is column title\n",
    "  return lists"
   ]
  },
  {
   "cell_type": "code",
   "execution_count": 9,
   "metadata": {
    "collapsed": true
   },
   "outputs": [],
   "source": [
    "def load_sheets(path):\n",
    "  sheet_book = load_workbook(path)\n",
    "  sheet_writer = pd.ExcelWriter(path, engine='openpyxl')\n",
    "  sheet_writer.book = sheet_book\n",
    "  sheet_writer.sheets = dict((ws.title, ws) for ws in sheet_book.worksheets)\n",
    "  logger.info(\"Downloaded %s\" % path)\n",
    "  return sheet_writer"
   ]
  },
  {
   "cell_type": "markdown",
   "metadata": {},
   "source": [
    "# Write to Sheets ↓\n",
    "\n",
    "The functions below write data to the currently local sheets."
   ]
  },
  {
   "cell_type": "markdown",
   "metadata": {},
   "source": [
    "## Scrape Tweets and save them to respective excel file\n",
    "\n",
    "*twitter_list.xlsx* contains the list of candidates for each tweets excel file along with the metadata.\n",
    "\n",
    "*cand_tweets.xlsx* contains the tweets for all announced candidates\n",
    "\n",
    "*spec_tweets.xlsx* contains the tweets for all the speculated candidates\n",
    "\n",
    "*rep_tweets.xlsx* contains the tweets for all current CA represenatives of interest for the CA 2018 Elections."
   ]
  },
  {
   "cell_type": "code",
   "execution_count": 10,
   "metadata": {
    "collapsed": true
   },
   "outputs": [],
   "source": [
    "#############################################\n",
    "# collect_data(tweet_sheet, twitter_list, twitter_sheet)\n",
    "# This function pulls new latest tweets and appends them to the correct excel file\n",
    "# params: tweet_sheet - the path to the excel file to save the new tweets \n",
    "#         twitter_list - path to file that contains the twitter handles, last tweet pulled id, tweet counts, and \n",
    "#                        last pull date\n",
    "#         twitter_sheet - the correct sheet of accounts corresponding to the tweet sheet passed in\n",
    "# returns: n/a\n",
    "def collect_data(tweet_sheet, twitter_list, twitter_sheet):\n",
    "  # start timer\n",
    "  start = time.time()\n",
    "  logger.info(\"Start...\")\n",
    "  # dp_client = authenticate_dropbox()\n",
    "  \n",
    "  # process the paths so they are passable to load_sheets\n",
    "  tweets_path = os.path.expanduser(tweet_sheet)\n",
    "  twitter_path = os.path.expanduser(twitter_list)\n",
    "  \n",
    "  # load and prepare list of twitter accounts    \n",
    "  list_writer = load_sheets(twitter_path)\n",
    "  list_df = pd.read_excel(twitter_path, twitter_sheet)\n",
    "  list_df = list_df.dropna(thresh=4)\n",
    "  \n",
    "  # list_df['Last_Pulled'] = pd.to_datetime(list_df['Last_Pulled'], errors='coerce') \n",
    "  # properly load spreadsheet to append new data\n",
    "  tweet_writer = load_sheets(tweets_path)\n",
    "  \n",
    "  # loop through the list of Cand/PACs and updates each tweet sheet appropriately\n",
    "  for index, row in list_df.iterrows():       \n",
    "    name, since_id, count = row[1], row[2],row[3]\n",
    "    \n",
    "    new_tweets = get_new_tweets(name, since_id)\n",
    "    # if there are no new tweets continue to the next account\n",
    "    if (len(new_tweets) > 0):\n",
    "      # turn the new tweets into a dataframe and write them to the corresponding excel sheet\n",
    "      df = pd.DataFrame(new_tweets)\n",
    "      \n",
    "      # update since_id, count, and last_pull date in tweet list\n",
    "      list_df.iat[index,2] = new_tweets[len(new_tweets)-1][0] # since_id\n",
    "      list_df.iat[index,3] = count + len(new_tweets) # last_pull\n",
    "      list_df.iat[index,4] = pd.to_datetime(time.strftime(\"%m/%d/%Y %H:%M:%S\"), errors='coerce') # last_pull date\n",
    "      \n",
    "      logger.info(\"Updated new tweets on spreadsheet for %s\" % name)\n",
    "      time.sleep(100)\n",
    "  \n",
    "  # write the updated list and save the changes to the excel sheets\n",
    "  list_df.to_excel(list_writer, sheet_name=twitter_sheet, index=False)\n",
    "  tweet_writer.save()\n",
    "  list_writer.save()\n",
    "  \n",
    "  logger.info(\"Done appending new tweets\")\n",
    "  # stop timer and print time elapsed for the current data pull\n",
    "  end = time.time()\n",
    "  logger.info(\"Time Elapsed: %d\", float((end-start))/60)"
   ]
  },
  {
   "cell_type": "code",
   "execution_count": 11,
   "metadata": {
    "collapsed": true
   },
   "outputs": [],
   "source": [
    "# Purpose: Updates like and retweet totals\n",
    "def collect_addition_data(tweet_sheet, sheetname, tweet_list):\n",
    "  # start the timer\n",
    "  start = time.time()\n",
    "  logger.info(\"Start...\")\n",
    "  # dp_client = authenticate_dropbox()\n",
    "  \n",
    "  # load and prepare list of twitter accounts\n",
    "  list_writer = load_sheets(tweet_list)\n",
    "  list_df = pd.read_excel(tweet_list, sheetname=sheetname)\n",
    "  list_df = list_df.dropna(thresh=4)\n",
    "  # properly load spreadsheet to append new data\n",
    "  tweet_writer = load_sheets(tweet_sheet)\n",
    "  logger.info(\"Downloaded tweets list\")\n",
    "  \n",
    "  # loop through the list of Cand/PACs and updates each tweet sheet appropriately\n",
    "  for row in list_df.itertuples():       \n",
    "    name, since_id, count = row[2], row[3],row[4]\n",
    "    \n",
    "    # Lessig has deleted this account, so skip it while updating tweets\n",
    "    if (name == 'Lessig2016'):\n",
    "      continue\n",
    "    \n",
    "    # read cand tweet sheet\n",
    "    tweets_df = pd.read_excel(tweet_sheet, sheetname=name)\n",
    "    logger.info(\"Retrived data from spreadsheet for %s\" % name)\n",
    "    \n",
    "    # retreive updated tweets\n",
    "    tweets = get_new_tweets(name, 1)\n",
    "    updates_df = pd.DataFrame(tweets)\n",
    "    \n",
    "    # clean dataframe to only include id, retweets, and favorites\n",
    "    updates_df = updates_df[[0, 6, 7]]\n",
    "    updates_df.columns = ['id', 'retweets', 'favorites']\n",
    "    \n",
    "    # call helper fuction to match updated metadata with correct tweets\n",
    "    tweets_df = update_metadata(tweets_df, updates_df, name)\n",
    "    \n",
    "    # write the updated data to the twitter profile's sheet to be saved\n",
    "    tweets_df.to_excel(tweet_writer, sheet_name=name, index=False, startcol=1)\n",
    "    logger.info(\"Updated data on spreadsheet for %s\" % name)\n",
    "    # 100 second pause between data pulls to avoid token exceptions\n",
    "    time.sleep(20)\n",
    "  \n",
    "  tweet_writer.save()\n",
    "  \n",
    "  logger.info(\"Done collecting additional data\")\n",
    "  # stop timer and print time elapsed for the current data pull\n",
    "  end = time.time()\n",
    "  logger.info(\"Time Elapsed: %d\", float((end-start))/60)"
   ]
  },
  {
   "cell_type": "markdown",
   "metadata": {},
   "source": [
    "#### Tweets Pull Variables"
   ]
  },
  {
   "cell_type": "code",
   "execution_count": 12,
   "metadata": {
    "collapsed": true
   },
   "outputs": [],
   "source": [
    "# set file pathway variables an expand to HOME\n",
    "data_dir = '~/Dropbox/Summer_of_Tweets/ca_working_sheets/'\n",
    "\n",
    "# the excel sheets containing the tweets\n",
    "cand_tweets = \"cand_tweets.xlsx\"\n",
    "spec_tweets = \"spec_tweets.xlsx\"\n",
    "rep_tweets = \"rep_tweets.xlsx\"\n",
    "\n",
    "# the excel file containing the accounts and its sheets\n",
    "twitter_list = \"Twitter_List.xlsx\"\n",
    "cand_sheet = \"cand\"\n",
    "spec_sheet = \"speculated\"\n",
    "rep_sheet = \"reps\"\n",
    "ca49_sheet = \"CA49\""
   ]
  },
  {
   "cell_type": "code",
   "execution_count": 13,
   "metadata": {},
   "outputs": [
    {
     "name": "stderr",
     "output_type": "stream",
     "text": [
      "INFO:__main__:Start...\n",
      "INFO:__main__:Downloaded /Users/SoloMune/Dropbox/Summer_of_Tweets/ca_working_sheets/Twitter_List.xlsx\n",
      "INFO:__main__:Downloaded /Users/SoloMune/Dropbox/Summer_of_Tweets/ca_working_sheets/cand_tweets.xlsx\n",
      "INFO:__main__:Downloading 13 tweets from GavinNewsom\n",
      "INFO:__main__:Updated new tweets on spreadsheet for GavinNewsom\n",
      "INFO:__main__:Downloading 16 tweets from JohnChiangCA\n",
      "INFO:__main__:Updated new tweets on spreadsheet for JohnChiangCA\n",
      "INFO:__main__:Downloading 4 tweets from antonio4ca\n",
      "INFO:__main__:Updated new tweets on spreadsheet for antonio4ca\n",
      "INFO:__main__:Downloading 13 tweets from DelaineEastin\n",
      "INFO:__main__:Updated new tweets on spreadsheet for DelaineEastin\n",
      "INFO:__main__:Downloading 14 tweets from TheRealJohnHCox\n",
      "INFO:__main__:Updated new tweets on spreadsheet for TheRealJohnHCox\n",
      "INFO:__main__:Downloading 4 tweets from JoinTravisAllen\n",
      "INFO:__main__:Updated new tweets on spreadsheet for JoinTravisAllen\n",
      "INFO:__main__:Downloading 29 tweets from zoltan_istvan\n",
      "INFO:__main__:Updated new tweets on spreadsheet for zoltan_istvan\n",
      "INFO:__main__:Downloading 88 tweets from tophertbrennan\n",
      "INFO:__main__:Updated new tweets on spreadsheet for tophertbrennan\n",
      "INFO:__main__:Downloading 17 tweets from SenFeinstein\n",
      "INFO:__main__:Updated new tweets on spreadsheet for SenFeinstein\n",
      "INFO:__main__:Downloading 3 tweets from PatHarrisCA\n",
      "INFO:__main__:Updated new tweets on spreadsheet for PatHarrisCA\n",
      "INFO:__main__:Downloading 101 tweets from David4SenateCA\n",
      "INFO:__main__:Updated new tweets on spreadsheet for David4SenateCA\n",
      "INFO:__main__:Downloading 70 tweets from stutteringjohnm\n",
      "INFO:__main__:Updated new tweets on spreadsheet for stutteringjohnm\n",
      "INFO:__main__:Downloading 17 tweets from JosephNSanberg\n",
      "INFO:__main__:Updated new tweets on spreadsheet for JosephNSanberg\n",
      "INFO:__main__:Downloading 3 tweets from Stokes4Senate\n",
      "INFO:__main__:Updated new tweets on spreadsheet for Stokes4Senate\n",
      "INFO:__main__:Downloading 0 tweets from Carenlancona4Se\n",
      "INFO:__main__:Downloading 10 tweets from kdeleon\n",
      "INFO:__main__:Updated new tweets on spreadsheet for kdeleon\n",
      "INFO:__main__:Done appending new tweets\n",
      "INFO:__main__:Time Elapsed: 25\n",
      "INFO:__main__:Start...\n",
      "INFO:__main__:Downloaded /Users/SoloMune/Dropbox/Summer_of_Tweets/ca_working_sheets/Twitter_List.xlsx\n"
     ]
    },
    {
     "name": "stdout",
     "output_type": "stream",
     "text": [
      "\n"
     ]
    },
    {
     "name": "stderr",
     "output_type": "stream",
     "text": [
      "INFO:__main__:Downloaded /Users/SoloMune/Dropbox/Summer_of_Tweets/ca_working_sheets/spec_tweets.xlsx\n",
      "INFO:__main__:Downloading 1 tweets from Kevin_Faulconer\n",
      "INFO:__main__:Updated new tweets on spreadsheet for Kevin_Faulconer\n",
      "INFO:__main__:Downloading 6 tweets from ericgarcetti\n",
      "INFO:__main__:Updated new tweets on spreadsheet for ericgarcetti\n",
      "INFO:__main__:Downloading 27 tweets from TomSteyer\n",
      "INFO:__main__:Updated new tweets on spreadsheet for TomSteyer\n",
      "INFO:__main__:Downloading 5 tweets from ashleycvcf\n",
      "INFO:__main__:Updated new tweets on spreadsheet for ashleycvcf\n",
      "INFO:__main__:Downloading 17 tweets from SteveWestly\n",
      "INFO:__main__:Updated new tweets on spreadsheet for SteveWestly\n",
      "INFO:__main__:Downloading 0 tweets from LorettaSanchez\n",
      "INFO:__main__:Downloading 3 tweets from BradSherman\n",
      "INFO:__main__:Updated new tweets on spreadsheet for BradSherman\n",
      "INFO:__main__:Downloading 21 tweets from RepSwalwell\n",
      "INFO:__main__:Updated new tweets on spreadsheet for RepSwalwell\n",
      "INFO:__main__:Downloading 0 tweets from Caitlyn_Jenner\n",
      "INFO:__main__:Done appending new tweets\n",
      "INFO:__main__:Time Elapsed: 11\n",
      "INFO:__main__:Start...\n",
      "INFO:__main__:Downloaded /Users/SoloMune/Dropbox/Summer_of_Tweets/ca_working_sheets/Twitter_List.xlsx\n"
     ]
    },
    {
     "name": "stdout",
     "output_type": "stream",
     "text": [
      "\n"
     ]
    },
    {
     "name": "stderr",
     "output_type": "stream",
     "text": [
      "INFO:__main__:Downloaded /Users/SoloMune/Dropbox/Summer_of_Tweets/ca_working_sheets/rep_tweets.xlsx\n",
      "INFO:__main__:Downloading 1 tweets from jerrybrowngov\n",
      "INFO:__main__:Updated new tweets on spreadsheet for jerrybrowngov\n",
      "INFO:__main__:Downloading 10 tweets from AGBecerra\n",
      "INFO:__main__:Updated new tweets on spreadsheet for AGBecerra\n",
      "INFO:__main__:Downloading 1 tweets from BettyYeeforCA\n",
      "INFO:__main__:Updated new tweets on spreadsheet for BettyYeeforCA\n",
      "INFO:__main__:Downloading 9 tweets from CA_DaveJones\n",
      "INFO:__main__:Updated new tweets on spreadsheet for CA_DaveJones\n",
      "INFO:__main__:Downloading 3 tweets from TomTorlakson\n",
      "INFO:__main__:Updated new tweets on spreadsheet for TomTorlakson\n",
      "INFO:__main__:Downloading 0 tweets from billmonning\n",
      "INFO:__main__:Downloading 2 tweets from JeanFuller\n",
      "INFO:__main__:Updated new tweets on spreadsheet for JeanFuller\n",
      "INFO:__main__:Downloading 11 tweets from Rendon63rd\n",
      "INFO:__main__:Updated new tweets on spreadsheet for Rendon63rd\n",
      "INFO:__main__:Downloading 0 tweets from ChrisHoldenNews\n",
      "INFO:__main__:Downloading 0 tweets from ChadMayesCA\n",
      "INFO:__main__:Downloading 12 tweets from KamalaHarris\n",
      "INFO:__main__:Updated new tweets on spreadsheet for KamalaHarris\n",
      "INFO:__main__:Downloading 24 tweets from AlexPadilla4CA\n",
      "INFO:__main__:Updated new tweets on spreadsheet for AlexPadilla4CA\n",
      "INFO:__main__:Downloading 6 tweets from toniatkins\n",
      "INFO:__main__:Updated new tweets on spreadsheet for toniatkins\n",
      "INFO:__main__:Downloading 3 tweets from EricBauman\n",
      "INFO:__main__:Updated new tweets on spreadsheet for EricBauman\n",
      "INFO:__main__:Done appending new tweets\n",
      "INFO:__main__:Time Elapsed: 18\n",
      "INFO:__main__:Start...\n",
      "INFO:__main__:Downloaded /Users/SoloMune/Dropbox/Summer_of_Tweets/ca_working_sheets/Twitter_List.xlsx\n"
     ]
    },
    {
     "name": "stdout",
     "output_type": "stream",
     "text": [
      "\n"
     ]
    },
    {
     "name": "stderr",
     "output_type": "stream",
     "text": [
      "INFO:__main__:Downloaded /Users/SoloMune/Dropbox/Summer_of_Tweets/ca_working_sheets/cand_tweets.xlsx\n",
      "INFO:__main__:Downloading 3246 tweets from ApplegateCA49\n",
      "INFO:__main__:Updated new tweets on spreadsheet for ApplegateCA49\n",
      "INFO:__main__:Downloading 930 tweets from SaraJacobsCA\n",
      "INFO:__main__:Updated new tweets on spreadsheet for SaraJacobsCA\n",
      "INFO:__main__:Downloading 198 tweets from KerrForCongress\n",
      "INFO:__main__:Updated new tweets on spreadsheet for KerrForCongress\n",
      "INFO:__main__:Downloading 3241 tweets from MikeLevinCA\n",
      "INFO:__main__:Updated new tweets on spreadsheet for MikeLevinCA\n",
      "INFO:__main__:Downloading 44 tweets from CPforCongress\n",
      "INFO:__main__:Updated new tweets on spreadsheet for CPforCongress\n",
      "INFO:__main__:Downloading 1512 tweets from AsmRocky\n",
      "INFO:__main__:Updated new tweets on spreadsheet for AsmRocky\n",
      "INFO:__main__:Downloading 323 tweets from KristinDGaspar\n",
      "INFO:__main__:Updated new tweets on spreadsheet for KristinDGaspar\n",
      "INFO:__main__:Downloading 2163 tweets from DianeHarkey\n",
      "INFO:__main__:Updated new tweets on spreadsheet for DianeHarkey\n",
      "INFO:__main__:Downloading 0 tweets from brianlmaryott\n",
      "INFO:__main__:Downloading 2 tweets from JSSchoonover\n",
      "INFO:__main__:Updated new tweets on spreadsheet for JSSchoonover\n",
      "INFO:__main__:Done appending new tweets\n",
      "INFO:__main__:Time Elapsed: 16\n"
     ]
    }
   ],
   "source": [
    "collect_data(data_dir + cand_tweets, data_dir + twitter_list, cand_sheet)\n",
    "print \n",
    "collect_data(data_dir + spec_tweets, data_dir + twitter_list, spec_sheet)\n",
    "print \n",
    "collect_data(data_dir + rep_tweets, data_dir + twitter_list, rep_sheet)\n",
    "print\n",
    "collect_data(data_dir + cand_tweets, data_dir + twitter_list, ca49_sheet)"
   ]
  },
  {
   "cell_type": "code",
   "execution_count": null,
   "metadata": {
    "collapsed": true
   },
   "outputs": [],
   "source": []
  }
 ],
 "metadata": {
  "kernelspec": {
   "display_name": "Python 2",
   "language": "python",
   "name": "python2"
  },
  "language_info": {
   "codemirror_mode": {
    "name": "ipython",
    "version": 2
   },
   "file_extension": ".py",
   "mimetype": "text/x-python",
   "name": "python",
   "nbconvert_exporter": "python",
   "pygments_lexer": "ipython2",
   "version": "2.7.13"
  }
 },
 "nbformat": 4,
 "nbformat_minor": 2
}
